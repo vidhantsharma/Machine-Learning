{
  "nbformat": 4,
  "nbformat_minor": 0,
  "metadata": {
    "colab": {
      "provenance": []
    },
    "kernelspec": {
      "name": "python3",
      "display_name": "Python 3"
    },
    "language_info": {
      "name": "python"
    }
  },
  "cells": [
    {
      "cell_type": "code",
      "execution_count": null,
      "metadata": {
        "id": "QGzm4UZytGRq"
      },
      "outputs": [],
      "source": [
        "import torch as t\n",
        "import torchvision.datasets as datasets \n",
        "import torchvision.transforms as transforms\n",
        "import torch.nn as nn\n",
        "import matplotlib.pyplot as plt\n",
        "import numpy as np"
      ]
    },
    {
      "cell_type": "code",
      "source": [
        "transform = transforms.Compose([transforms.ToTensor(), transforms.Normalize((0.5,), (0.5,)),])\n",
        "\n",
        "trainset = datasets.MNIST(root='./data', download=True, train=True, transform=transform)\n",
        "testset = datasets.MNIST(root='./data', download=True, train=False, transform=transform)\n",
        "trainloader = t.utils.data.DataLoader(trainset, batch_size=64, shuffle=True)\n",
        "testloader = t.utils.data.DataLoader(testset, batch_size=64, shuffle=True)"
      ],
      "metadata": {
        "id": "iX0lwzCQtRHW"
      },
      "execution_count": null,
      "outputs": []
    },
    {
      "cell_type": "markdown",
      "source": [
        "Part (a) DNN"
      ],
      "metadata": {
        "id": "3Rs3O_Dj6vub"
      }
    },
    {
      "cell_type": "code",
      "source": [
        "# 2 hidden layers\n",
        "input_size = 784\n",
        "hidden_sizes = [512,512]\n",
        "output_size = 10\n",
        "\n",
        "model = nn.Sequential(nn.Linear(input_size, hidden_sizes[0],bias=True),\n",
        "                      nn.ReLU(),\n",
        "                      nn.Linear(hidden_sizes[0], hidden_sizes[1],bias=True),\n",
        "                      nn.ReLU(),\n",
        "                      nn.Linear(hidden_sizes[1], output_size,bias=True),\n",
        "                      )\n",
        "                 \n",
        "criterion = nn.CrossEntropyLoss()\n",
        "optimizer = t.optim.SGD(model.parameters(), lr=0.1, momentum=0.5)\n",
        "loss_list = []\n",
        "epochs = 10\n",
        "for e in range(epochs):\n",
        "    running_loss = 0\n",
        "    for images, labels in trainloader:\n",
        "        # Flatten MNIST images into a 784 long vector\n",
        "        images = images.view(images.shape[0], -1)\n",
        "    \n",
        "        # Training pass\n",
        "        optimizer.zero_grad()\n",
        "        \n",
        "        output = model(images)\n",
        "        loss = criterion(output, labels)\n",
        "        \n",
        "        #This is where the model learns by backpropagating\n",
        "        loss.backward()\n",
        "        \n",
        "        #And optimizes its weights here\n",
        "        optimizer.step()\n",
        "        \n",
        "        running_loss += loss.item()\n",
        "    else:\n",
        "        print(f\"Epoch {e+1} - Training loss: {running_loss/len(trainloader)}\")\n",
        "    loss_list.append(running_loss/len(trainloader))\n",
        "plt.plot(list(range(1,epochs+1)),loss_list)\n",
        "plt.xlabel(\"num of epochs\")\n",
        "plt.ylabel(\"error\")\n",
        "plt.title(\"error plot\")"
      ],
      "metadata": {
        "colab": {
          "base_uri": "https://localhost:8080/",
          "height": 486
        },
        "id": "9YWnyauiyjo1",
        "outputId": "526207f8-4817-4cb3-dff0-a140717793b7"
      },
      "execution_count": null,
      "outputs": [
        {
          "output_type": "stream",
          "name": "stdout",
          "text": [
            "Epoch 1 - Training loss: 0.33700922792002974\n",
            "Epoch 2 - Training loss: 0.1348176872316025\n",
            "Epoch 3 - Training loss: 0.09493987317899985\n",
            "Epoch 4 - Training loss: 0.07413195705747228\n",
            "Epoch 5 - Training loss: 0.06077536135347985\n",
            "Epoch 6 - Training loss: 0.05007476064062286\n",
            "Epoch 7 - Training loss: 0.04090122323599148\n",
            "Epoch 8 - Training loss: 0.033601457890993634\n",
            "Epoch 9 - Training loss: 0.029122957476362118\n",
            "Epoch 10 - Training loss: 0.027036277834731993\n"
          ]
        },
        {
          "output_type": "execute_result",
          "data": {
            "text/plain": [
              "Text(0.5, 1.0, 'error plot')"
            ]
          },
          "metadata": {},
          "execution_count": 19
        },
        {
          "output_type": "display_data",
          "data": {
            "text/plain": [
              "<Figure size 432x288 with 1 Axes>"
            ],
            "image/png": "[encoded data removed]"
          },
          "metadata": {
            "needs_background": "light"
          }
        }
      ]
    },
    {
      "cell_type": "code",
      "source": [
        "correct_count, all_count = 0, 0\n",
        "for images,labels in testloader:\n",
        "  for i in range(len(labels)):\n",
        "    img = images[i].view(1, 784)\n",
        "    with t.no_grad():\n",
        "      pred = model(img) # 10 prediction for 10 output neurons\n",
        "\n",
        "    \n",
        "    probab = list(pred.numpy()[0])\n",
        "    pred_label = probab.index(max(probab))\n",
        "    true_label = labels.numpy()[i]\n",
        "    if(true_label == pred_label):\n",
        "      correct_count += 1\n",
        "    all_count += 1\n",
        "\n",
        "print(\"Number Of Images Tested =\", all_count)\n",
        "print(f\"\\nModel Accuracy = {(correct_count/all_count)*100} %\")"
      ],
      "metadata": {
        "colab": {
          "base_uri": "https://localhost:8080/"
        },
        "id": "BTNqH54-04Xo",
        "outputId": "b5a9f8a0-80a2-4c23-d5ca-e2e197d00490"
      },
      "execution_count": null,
      "outputs": [
        {
          "output_type": "stream",
          "name": "stdout",
          "text": [
            "Number Of Images Tested = 10000\n",
            "\n",
            "Model Accuracy = 98.02 %\n"
          ]
        }
      ]
    },
    {
      "cell_type": "code",
      "source": [
        "# 3 hidden layers\n",
        "input_size = 784\n",
        "hidden_sizes = [512,512,512]\n",
        "output_size = 10\n",
        "\n",
        "model = nn.Sequential(nn.Linear(input_size, hidden_sizes[0],bias=True),\n",
        "                      nn.ReLU(),\n",
        "                      nn.Linear(hidden_sizes[0], hidden_sizes[1],bias=True),\n",
        "                      nn.ReLU(),\n",
        "                      nn.Linear(hidden_sizes[1], hidden_sizes[2],bias=True),\n",
        "                      nn.ReLU(),\n",
        "                      nn.Linear(hidden_sizes[2], output_size,bias=True),\n",
        "                      )\n",
        "                 \n",
        "criterion = nn.CrossEntropyLoss()\n",
        "optimizer = t.optim.SGD(model.parameters(), lr=0.1, momentum=0.5)\n",
        "loss_list = []\n",
        "epochs = 10\n",
        "for e in range(epochs):\n",
        "    running_loss = 0\n",
        "    for images, labels in trainloader:\n",
        "        # Flatten MNIST images into a 784 long vector\n",
        "        images = images.view(images.shape[0], -1)\n",
        "    \n",
        "        # Training pass\n",
        "        optimizer.zero_grad()\n",
        "        \n",
        "        output = model(images)\n",
        "        loss = criterion(output, labels)\n",
        "        \n",
        "        #This is where the model learns by backpropagating\n",
        "        loss.backward()\n",
        "        \n",
        "        #And optimizes its weights here\n",
        "        optimizer.step()\n",
        "        \n",
        "        running_loss += loss.item()\n",
        "    else:\n",
        "        print(f\"Epoch {e+1} - Training loss: {running_loss/len(trainloader)}\")\n",
        "    loss_list.append(running_loss/len(trainloader))\n",
        "plt.plot(list(range(1,epochs+1)),loss_list)\n",
        "plt.xlabel(\"num of epochs\")\n",
        "plt.ylabel(\"error\")\n",
        "plt.title(\"error plot\")"
      ],
      "metadata": {
        "colab": {
          "base_uri": "https://localhost:8080/",
          "height": 486
        },
        "id": "qehc46iq2KQ9",
        "outputId": "28d45778-9670-4887-b6e8-14045c2f3a71"
      },
      "execution_count": null,
      "outputs": [
        {
          "output_type": "stream",
          "name": "stdout",
          "text": [
            "Epoch 1 - Training loss: 0.40988286267688023\n",
            "Epoch 2 - Training loss: 0.14534343441904607\n",
            "Epoch 3 - Training loss: 0.10063921549478605\n",
            "Epoch 4 - Training loss: 0.08418774523182528\n",
            "Epoch 5 - Training loss: 0.0670730223005979\n",
            "Epoch 6 - Training loss: 0.05363258750639362\n",
            "Epoch 7 - Training loss: 0.046601487290876695\n",
            "Epoch 8 - Training loss: 0.03830782788505193\n",
            "Epoch 9 - Training loss: 0.035521403949673985\n",
            "Epoch 10 - Training loss: 0.02895876159314374\n"
          ]
        },
        {
          "output_type": "execute_result",
          "data": {
            "text/plain": [
              "Text(0.5, 1.0, 'error plot')"
            ]
          },
          "metadata": {},
          "execution_count": 21
        },
        {
          "output_type": "display_data",
          "data": {
            "text/plain": [
              "<Figure size 432x288 with 1 Axes>"
            ],
            "image/png": "[encoded data removed]"
          },
          "metadata": {
            "needs_background": "light"
          }
        }
      ]
    },
    {
      "cell_type": "code",
      "source": [
        "correct_count, all_count = 0, 0\n",
        "for images,labels in testloader:\n",
        "  for i in range(len(labels)):\n",
        "    img = images[i].view(1, 784)\n",
        "    with t.no_grad():\n",
        "      pred = model(img) # 10 prediction for 10 output neurons\n",
        "\n",
        "    \n",
        "    probab = list(pred.numpy()[0])\n",
        "    pred_label = probab.index(max(probab))\n",
        "    true_label = labels.numpy()[i]\n",
        "    if(true_label == pred_label):\n",
        "      correct_count += 1\n",
        "    all_count += 1\n",
        "\n",
        "print(\"Number Of Images Tested =\", all_count)\n",
        "print(f\"\\nModel Accuracy = {(correct_count/all_count)*100} %\")"
      ],
      "metadata": {
        "colab": {
          "base_uri": "https://localhost:8080/"
        },
        "id": "VgnYD5G27A5b",
        "outputId": "5229325e-46c7-4c12-80e7-cd88273b6279"
      },
      "execution_count": null,
      "outputs": [
        {
          "output_type": "stream",
          "name": "stdout",
          "text": [
            "Number Of Images Tested = 10000\n",
            "\n",
            "Model Accuracy = 97.88 %\n"
          ]
        }
      ]
    },
    {
      "cell_type": "markdown",
      "source": [
        "Part (b) CNN"
      ],
      "metadata": {
        "id": "M9JiLF8P7huE"
      }
    },
    {
      "cell_type": "code",
      "source": [
        "class Net(nn.Module):\n",
        "    def __init__(self):\n",
        "        super().__init__()\n",
        "        self.conv = nn.Conv2d(1, 128, 3,bias=True)\n",
        "        self.pool = nn.MaxPool2d(2, 2)\n",
        "        self.relu = nn.ReLU()\n",
        "        self.fc1 = nn.Linear(128 * 13 * 13, 256)\n",
        "        self.fc2 = nn.Linear(256, 256)\n",
        "        self.fc3 = nn.Linear(256, 10)\n",
        "\n",
        "\n",
        "    def forward(self, x):\n",
        "        x = self.pool(self.relu(self.conv(x)))\n",
        "        x = t.flatten(x, 1) # flatten all dimensions except batch\n",
        "        x = self.relu(self.fc1(x))\n",
        "        x = self.relu(self.fc2(x))\n",
        "        x = self.fc3(x)\n",
        "        return x\n",
        "\n",
        "model = Net()\n",
        "print(model)"
      ],
      "metadata": {
        "colab": {
          "base_uri": "https://localhost:8080/"
        },
        "id": "gCzgpogc7mtb",
        "outputId": "9c0f28b3-45db-4cec-cc6d-b27be91aef74"
      },
      "execution_count": null,
      "outputs": [
        {
          "output_type": "stream",
          "name": "stdout",
          "text": [
            "Net(\n",
            "  (conv): Conv2d(1, 128, kernel_size=(3, 3), stride=(1, 1))\n",
            "  (pool): MaxPool2d(kernel_size=2, stride=2, padding=0, dilation=1, ceil_mode=False)\n",
            "  (relu): ReLU()\n",
            "  (fc1): Linear(in_features=21632, out_features=256, bias=True)\n",
            "  (fc2): Linear(in_features=256, out_features=256, bias=True)\n",
            "  (fc3): Linear(in_features=256, out_features=10, bias=True)\n",
            ")\n"
          ]
        }
      ]
    },
    {
      "cell_type": "code",
      "source": [
        "criterion = nn.CrossEntropyLoss()\n",
        "optimizer = t.optim.SGD(model.parameters(), lr=0.1, momentum=0.5)\n",
        "loss_list = []\n",
        "epochs = 10\n",
        "for e in range(epochs):\n",
        "    running_loss = 0\n",
        "    for images, labels in trainloader:\n",
        "    \n",
        "        # Training pass\n",
        "        optimizer.zero_grad()\n",
        "        \n",
        "        output = model(images)\n",
        "        loss = criterion(output, labels)\n",
        "        \n",
        "        #This is where the model learns by backpropagating\n",
        "        loss.backward()\n",
        "        \n",
        "        #And optimizes its weights here\n",
        "        optimizer.step()\n",
        "        \n",
        "        running_loss += loss.item()\n",
        "    else:\n",
        "        print(f\"Epoch {e+1} - Training loss: {running_loss/len(trainloader)}\")\n",
        "    loss_list.append(running_loss/len(trainloader))\n",
        "plt.plot(list(range(1,epochs+1)),loss_list)\n",
        "plt.xlabel(\"num of epochs\")\n",
        "plt.ylabel(\"error\")\n",
        "plt.title(\"error plot\")"
      ],
      "metadata": {
        "colab": {
          "base_uri": "https://localhost:8080/",
          "height": 486
        },
        "id": "F6lkmrNqBrIN",
        "outputId": "5b7bb6fc-2c51-4a1a-91fd-c7243bf621c2"
      },
      "execution_count": null,
      "outputs": [
        {
          "output_type": "stream",
          "name": "stdout",
          "text": [
            "Epoch 1 - Training loss: 0.24652310907056352\n",
            "Epoch 2 - Training loss: 0.061357545320625734\n",
            "Epoch 3 - Training loss: 0.03903819222234314\n",
            "Epoch 4 - Training loss: 0.02658879350128545\n",
            "Epoch 5 - Training loss: 0.01764623134091101\n",
            "Epoch 6 - Training loss: 0.012993880120271853\n",
            "Epoch 7 - Training loss: 0.00923719484834011\n",
            "Epoch 8 - Training loss: 0.005133042308653127\n",
            "Epoch 9 - Training loss: 0.0024051281229226906\n",
            "Epoch 10 - Training loss: 0.0016268207090204064\n"
          ]
        },
        {
          "output_type": "execute_result",
          "data": {
            "text/plain": [
              "Text(0.5, 1.0, 'error plot')"
            ]
          },
          "metadata": {},
          "execution_count": 24
        },
        {
          "output_type": "display_data",
          "data": {
            "text/plain": [
              "<Figure size 432x288 with 1 Axes>"
            ],
            "image/png": "[encoded data removed]"
          },
          "metadata": {
            "needs_background": "light"
          }
        }
      ]
    },
    {
      "cell_type": "code",
      "source": [
        "correct_count,all_count = 0,0\n",
        "for images,labels in testloader:\n",
        "    with t.no_grad():\n",
        "      pred = model(images) # 10 prediction for 10 output neurons\n",
        "      _, predicted = t.max(pred.data, 1)\n",
        "      all_count += labels.size(0)\n",
        "      correct_count += (predicted == labels).sum().item()\n",
        "\n",
        "print(\"Number Of Images Tested =\", all_count)\n",
        "print(f\"\\nModel Accuracy ={(correct_count/all_count)*100} %\")"
      ],
      "metadata": {
        "colab": {
          "base_uri": "https://localhost:8080/"
        },
        "id": "1xpGqFkHRNQd",
        "outputId": "545eeb69-6e94-48c1-a5cf-593808f2e6ce"
      },
      "execution_count": null,
      "outputs": [
        {
          "output_type": "stream",
          "name": "stdout",
          "text": [
            "Number Of Images Tested = 10000\n",
            "\n",
            "Model Accuracy =98.94 %\n"
          ]
        }
      ]
    },
    {
      "cell_type": "markdown",
      "source": [
        "**Case 1**\n",
        "\n",
        "1) For DNN\\\n",
        "Num_hidden_layer_neurons = [512,512]\\\n",
        "Test_accuracy = 97-98%\n",
        "\n",
        "2) For CNN\\\n",
        "Num_kernels = 128\\\n",
        "kernel_size = 3\\\n",
        "Max_pool_size = 2\\\n",
        "Num_hidden_layer_neurons = [256,256]\\\n",
        "Test_accuracy = 99%\\\n",
        "\n",
        "**Observation** - in DNN number of parameters = 28 * 28 * 512 + 512 * 512 + 512 * 10 = 668672. In CNN number of parameters = 3 * 3 * 128 + 128 * 13 * 13 * 256 + 256 * 256 + 256 * 10 = 5607040.\\\n",
        "The accuracy in case of CNN for this case is higher.\\\n",
        "**Now we will test for different combinations of Num_hidden_layer_neurons and kernel_size**\n",
        "\n",
        "\n"
      ],
      "metadata": {
        "id": "E9E0VGkTkioq"
      }
    },
    {
      "cell_type": "markdown",
      "source": [
        "**Case 2**\\\n",
        "For CNN\\\n",
        "Num_kernels = 128\\\n",
        "kernel_size = 5\\\n",
        "Max_pool_size = 2\\\n",
        "Num_hidden_layer_neurons = [128,128]"
      ],
      "metadata": {
        "id": "wgd4j29Cx_sq"
      }
    },
    {
      "cell_type": "code",
      "source": [
        "class Net(nn.Module):\n",
        "    def __init__(self):\n",
        "        super().__init__()\n",
        "        self.conv = nn.Conv2d(1, 128, 5,bias=True)\n",
        "        self.pool = nn.MaxPool2d(2, 2)\n",
        "        self.relu = nn.ReLU()\n",
        "        self.fc1 = nn.Linear(128 * 12 * 12, 128)\n",
        "        self.fc2 = nn.Linear(128, 128)\n",
        "        self.fc3 = nn.Linear(128, 10)\n",
        "\n",
        "\n",
        "    def forward(self, x):\n",
        "        x = self.pool(self.relu(self.conv(x)))\n",
        "        x = t.flatten(x, 1) # flatten all dimensions except batch\n",
        "        x = self.relu(self.fc1(x))\n",
        "        x = self.relu(self.fc2(x))\n",
        "        x = self.fc3(x)\n",
        "        return x\n",
        "\n",
        "model = Net()\n",
        "print(model)"
      ],
      "metadata": {
        "id": "BEpRmgzRYHp2",
        "colab": {
          "base_uri": "https://localhost:8080/"
        },
        "outputId": "27fc380a-1ae0-4a3a-f860-1b67d07c8476"
      },
      "execution_count": null,
      "outputs": [
        {
          "output_type": "stream",
          "name": "stdout",
          "text": [
            "Net(\n",
            "  (conv): Conv2d(1, 128, kernel_size=(5, 5), stride=(1, 1))\n",
            "  (pool): MaxPool2d(kernel_size=2, stride=2, padding=0, dilation=1, ceil_mode=False)\n",
            "  (relu): ReLU()\n",
            "  (fc1): Linear(in_features=18432, out_features=128, bias=True)\n",
            "  (fc2): Linear(in_features=128, out_features=128, bias=True)\n",
            "  (fc3): Linear(in_features=128, out_features=10, bias=True)\n",
            ")\n"
          ]
        }
      ]
    },
    {
      "cell_type": "code",
      "source": [
        "criterion = nn.CrossEntropyLoss()\n",
        "optimizer = t.optim.SGD(model.parameters(), lr=0.1, momentum=0.5)\n",
        "loss_list = []\n",
        "epochs = 10\n",
        "for e in range(epochs):\n",
        "    running_loss = 0\n",
        "    for images, labels in trainloader:\n",
        "    \n",
        "        # Training pass\n",
        "        optimizer.zero_grad()\n",
        "        \n",
        "        output = model(images)\n",
        "        loss = criterion(output, labels)\n",
        "        \n",
        "        #This is where the model learns by backpropagating\n",
        "        loss.backward()\n",
        "        \n",
        "        #And optimizes its weights here\n",
        "        optimizer.step()\n",
        "        \n",
        "        running_loss += loss.item()\n",
        "    else:\n",
        "        print(f\"Epoch {e+1} - Training loss: {running_loss/len(trainloader)}\")\n",
        "    loss_list.append(running_loss/len(trainloader))\n",
        "plt.plot(list(range(1,epochs+1)),loss_list)\n",
        "plt.xlabel(\"num of epochs\")\n",
        "plt.ylabel(\"error\")\n",
        "plt.title(\"error plot\")"
      ],
      "metadata": {
        "colab": {
          "base_uri": "https://localhost:8080/",
          "height": 486
        },
        "id": "4IA6-QHey5UL",
        "outputId": "0620ff49-4fcc-43fa-c414-2a92edc4a7a5"
      },
      "execution_count": null,
      "outputs": [
        {
          "output_type": "stream",
          "name": "stdout",
          "text": [
            "Epoch 1 - Training loss: 0.19369002723414053\n",
            "Epoch 2 - Training loss: 0.05601572516664211\n",
            "Epoch 3 - Training loss: 0.03691709553735998\n",
            "Epoch 4 - Training loss: 0.02477556616062922\n",
            "Epoch 5 - Training loss: 0.018832268695312137\n",
            "Epoch 6 - Training loss: 0.013981899784358248\n",
            "Epoch 7 - Training loss: 0.010148696502862892\n",
            "Epoch 8 - Training loss: 0.006718680314669575\n",
            "Epoch 9 - Training loss: 0.003825539636045699\n",
            "Epoch 10 - Training loss: 0.0033048176724396875\n"
          ]
        },
        {
          "output_type": "execute_result",
          "data": {
            "text/plain": [
              "Text(0.5, 1.0, 'error plot')"
            ]
          },
          "metadata": {},
          "execution_count": 27
        },
        {
          "output_type": "display_data",
          "data": {
            "text/plain": [
              "<Figure size 432x288 with 1 Axes>"
            ],
            "image/png": "[encoded data removed]"
          },
          "metadata": {
            "needs_background": "light"
          }
        }
      ]
    },
    {
      "cell_type": "code",
      "source": [
        "correct_count,all_count = 0,0\n",
        "for images,labels in testloader:\n",
        "    with t.no_grad():\n",
        "      pred = model(images) # 10 prediction for 10 output neurons\n",
        "      _, predicted = t.max(pred.data, 1)\n",
        "      all_count += labels.size(0)\n",
        "      correct_count += (predicted == labels).sum().item()\n",
        "\n",
        "print(\"Number Of Images Tested =\", all_count)\n",
        "print(f\"\\nModel Accuracy ={(correct_count/all_count)*100} %\")"
      ],
      "metadata": {
        "colab": {
          "base_uri": "https://localhost:8080/"
        },
        "id": "WW7hYKstzazv",
        "outputId": "36f274bc-7d65-4765-91da-d3e78cdfe964"
      },
      "execution_count": null,
      "outputs": [
        {
          "output_type": "stream",
          "name": "stdout",
          "text": [
            "Number Of Images Tested = 10000\n",
            "\n",
            "Model Accuracy =98.78 %\n"
          ]
        }
      ]
    },
    {
      "cell_type": "markdown",
      "source": [
        "**Observation for Case 2**\\\n",
        "we observe that there is negligible change in test accuracy by reducing the number of neurons in dense layers. So we can reduce number of learnable parameters without affecting accuracy much."
      ],
      "metadata": {
        "id": "SV7bR0oS0NVq"
      }
    },
    {
      "cell_type": "markdown",
      "source": [
        "**Case 3**\\\n",
        "For CNN\\\n",
        "chaning number of kernels to check accuracy\\\n",
        "Num_kernels = 24\\\n",
        "kernel_size = 5\\\n",
        "Max_pool_size = 2\\\n",
        "Num_hidden_layer_neurons = [128,128]"
      ],
      "metadata": {
        "id": "NPkIkjIj1XMa"
      }
    },
    {
      "cell_type": "code",
      "source": [
        "class Net(nn.Module):\n",
        "    def __init__(self):\n",
        "        super().__init__()\n",
        "        self.conv = nn.Conv2d(1, 24, 5,bias=True)\n",
        "        self.pool = nn.MaxPool2d(2, 2)\n",
        "        self.relu = nn.ReLU()\n",
        "        self.fc1 = nn.Linear(24 * 12 * 12, 128)\n",
        "        self.fc2 = nn.Linear(128, 128)\n",
        "        self.fc3 = nn.Linear(128, 10)\n",
        "\n",
        "\n",
        "    def forward(self, x):\n",
        "        x = self.pool(self.relu(self.conv(x)))\n",
        "        x = t.flatten(x, 1) # flatten all dimensions except batch\n",
        "        x = self.relu(self.fc1(x))\n",
        "        x = self.relu(self.fc2(x))\n",
        "        x = self.fc3(x)\n",
        "        return x\n",
        "\n",
        "model = Net()\n",
        "print(model)"
      ],
      "metadata": {
        "colab": {
          "base_uri": "https://localhost:8080/"
        },
        "id": "aa0Q_30U2cJH",
        "outputId": "725e4f4c-0f0d-4cd1-e40d-66bafb4ca7e3"
      },
      "execution_count": null,
      "outputs": [
        {
          "output_type": "stream",
          "name": "stdout",
          "text": [
            "Net(\n",
            "  (conv): Conv2d(1, 24, kernel_size=(5, 5), stride=(1, 1))\n",
            "  (pool): MaxPool2d(kernel_size=2, stride=2, padding=0, dilation=1, ceil_mode=False)\n",
            "  (relu): ReLU()\n",
            "  (fc1): Linear(in_features=3456, out_features=128, bias=True)\n",
            "  (fc2): Linear(in_features=128, out_features=128, bias=True)\n",
            "  (fc3): Linear(in_features=128, out_features=10, bias=True)\n",
            ")\n"
          ]
        }
      ]
    },
    {
      "cell_type": "code",
      "source": [
        "criterion = nn.CrossEntropyLoss()\n",
        "optimizer = t.optim.SGD(model.parameters(), lr=0.1, momentum=0.5)\n",
        "loss_list = []\n",
        "epochs = 10\n",
        "for e in range(epochs):\n",
        "    running_loss = 0\n",
        "    for images, labels in trainloader:\n",
        "    \n",
        "        # Training pass\n",
        "        optimizer.zero_grad()\n",
        "        \n",
        "        output = model(images)\n",
        "        loss = criterion(output, labels)\n",
        "        \n",
        "        #This is where the model learns by backpropagating\n",
        "        loss.backward()\n",
        "        \n",
        "        #And optimizes its weights here\n",
        "        optimizer.step()\n",
        "        \n",
        "        running_loss += loss.item()\n",
        "    else:\n",
        "        print(f\"Epoch {e+1} - Training loss: {running_loss/len(trainloader)}\")\n",
        "    loss_list.append(running_loss/len(trainloader))\n",
        "plt.plot(list(range(1,epochs+1)),loss_list)\n",
        "plt.xlabel(\"num of epochs\")\n",
        "plt.ylabel(\"error\")\n",
        "plt.title(\"error plot\")"
      ],
      "metadata": {
        "colab": {
          "base_uri": "https://localhost:8080/",
          "height": 486
        },
        "id": "UFZKe2iv2pUS",
        "outputId": "ee33d041-b450-4df4-db82-d474d757d971"
      },
      "execution_count": null,
      "outputs": [
        {
          "output_type": "stream",
          "name": "stdout",
          "text": [
            "Epoch 1 - Training loss: 0.1805501035434494\n",
            "Epoch 2 - Training loss: 0.05218891207245923\n",
            "Epoch 3 - Training loss: 0.0344221239286745\n",
            "Epoch 4 - Training loss: 0.022812313185513904\n",
            "Epoch 5 - Training loss: 0.01683970420076461\n",
            "Epoch 6 - Training loss: 0.011580982731498877\n",
            "Epoch 7 - Training loss: 0.007854149426274196\n",
            "Epoch 8 - Training loss: 0.006034880629013137\n",
            "Epoch 9 - Training loss: 0.005850765659921077\n",
            "Epoch 10 - Training loss: 0.004826210135763607\n"
          ]
        },
        {
          "output_type": "execute_result",
          "data": {
            "text/plain": [
              "Text(0.5, 1.0, 'error plot')"
            ]
          },
          "metadata": {},
          "execution_count": 30
        },
        {
          "output_type": "display_data",
          "data": {
            "text/plain": [
              "<Figure size 432x288 with 1 Axes>"
            ],
            "image/png": "[encoded data removed]"
          },
          "metadata": {
            "needs_background": "light"
          }
        }
      ]
    },
    {
      "cell_type": "code",
      "source": [
        "correct_count,all_count = 0,0\n",
        "for images,labels in testloader:\n",
        "    with t.no_grad():\n",
        "      pred = model(images) # 10 prediction for 10 output neurons\n",
        "      _, predicted = t.max(pred.data, 1)\n",
        "      all_count += labels.size(0)\n",
        "      correct_count += (predicted == labels).sum().item()\n",
        "\n",
        "print(\"Number Of Images Tested =\", all_count)\n",
        "print(f\"\\nModel Accuracy ={(correct_count/all_count)*100} %\")"
      ],
      "metadata": {
        "id": "gPUyXuZbKTXa",
        "outputId": "5d987217-92aa-416c-82c2-9468ab7b4b4f",
        "colab": {
          "base_uri": "https://localhost:8080/"
        }
      },
      "execution_count": null,
      "outputs": [
        {
          "output_type": "stream",
          "name": "stdout",
          "text": [
            "Number Of Images Tested = 10000\n",
            "\n",
            "Model Accuracy =98.6 %\n"
          ]
        }
      ]
    },
    {
      "cell_type": "markdown",
      "source": [
        "**Observation for Case 3**\\\n",
        "we observe that even after reducing the number of kernels, the accuracy is not changed much. The reason is that MNIST data set can be learned with less number of kernels because of its simplicity. It also speed up the learing process considerably as number of parameters are reduced quite a lot."
      ],
      "metadata": {
        "id": "U-2tzE--69nE"
      }
    },
    {
      "cell_type": "code",
      "source": [],
      "metadata": {
        "id": "sZFON-GH6l0L"
      },
      "execution_count": null,
      "outputs": []
    }
  ]
}